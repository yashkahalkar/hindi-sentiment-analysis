{
 "cells": [
  {
   "cell_type": "code",
   "execution_count": 12,
   "id": "c8b1fbb6-80e1-4361-955b-954c036d8774",
   "metadata": {},
   "outputs": [],
   "source": [
    "import pandas as pd\n",
    "import numpy as np\n",
    "import matplotlib.pyplot as plt\n",
    "import seaborn as sns\n",
    "import google.generativeai as genai\n",
    "import os\n",
    "import time\n",
    "from sklearn.model_selection import train_test_split\n",
    "from sklearn.model_selection import GridSearchCV\n",
    "from sklearn.svm import SVC\n",
    "from sklearn.metrics import accuracy_score, classification_report\n",
    "import joblib\n",
    "from dotenv import load_dotenv\n",
    "\n",
    "# --- Configuration ---\n",
    "load_dotenv()\n",
    "GOOGLE_API_KEY = os.getenv(\"GOOGLE_API_KEY\")\n",
    "if not GOOGLE_API_KEY:\n",
    "    raise ValueError(\"GOOGLE_API_KEY not found in environment variables.\")\n",
    "\n",
    "genai.configure(api_key=GOOGLE_API_KEY)\n",
    "EMBEDDING_MODEL = 'models/embedding-001'\n",
    "DATASET_PATH = 'Hindi_Sentiment.csv'\n",
    "EMBEDDINGS_CACHE_PATH = 'hindi_emotion_with_embeddings.csv' # New cache file\n",
    "MODEL_PATH = 'svm_emotion_model.pkl' # New model file"
   ]
  },
  {
   "cell_type": "code",
   "execution_count": 2,
   "id": "e8d6131d-850c-49cc-ad43-eb18e6d628aa",
   "metadata": {},
   "outputs": [
    {
     "data": {
      "text/plain": [
       "array(['neutral', 'surprise', 'fear', 'sadness', 'joy', 'disgust',\n",
       "       'anger'], dtype=object)"
      ]
     },
     "execution_count": 2,
     "metadata": {},
     "output_type": "execute_result"
    }
   ],
   "source": [
    "df = pd.read_csv(DATASET_PATH)\n",
    "unique_labels = df['label'].unique()\n",
    "unique_labels"
   ]
  },
  {
   "cell_type": "code",
   "execution_count": 3,
   "id": "94ce79ee-3f6f-468f-a7cf-76823b7287b6",
   "metadata": {},
   "outputs": [],
   "source": [
    "ID_TO_LABEL = {i: label for i, label in enumerate(unique_labels)}\n",
    "LABEL_TO_ID = {label: i for i, label in enumerate(unique_labels)}"
   ]
  },
  {
   "cell_type": "code",
   "execution_count": 14,
   "id": "26ab2732-c92c-4674-979e-0bdfb6c1c888",
   "metadata": {},
   "outputs": [
    {
     "name": "stdout",
     "output_type": "stream",
     "text": [
      "--- Starting Multi-Class Emotion Model Training ---\n",
      "Loading pre-computed embeddings from hindi_emotion_with_embeddings.csv...\n",
      "Preparing data for SVM training...\n",
      "\n",
      "Starting Hyperparameter Tuning with GridSearchCV...\n",
      "Fitting the grid search... (This will take a while)\n",
      "Fitting 3 folds for each of 12 candidates, totalling 36 fits\n",
      "\n",
      "Best parameters found: {'C': 10, 'kernel': 'linear'}\n",
      "Best cross-validation accuracy: 0.3975\n",
      "Evaluating model...\n",
      "Model Accuracy: 0.4144\n",
      "\n",
      "Classification Report:\n",
      "              precision    recall  f1-score   support\n",
      "\n",
      "     neutral       0.67      0.54      0.60       744\n",
      "    surprise       0.25      0.43      0.32       180\n",
      "        fear       0.09      0.12      0.10        49\n",
      "     sadness       0.14      0.23      0.17       112\n",
      "         joy       0.40      0.30      0.34       282\n",
      "     disgust       0.07      0.06      0.07        47\n",
      "       anger       0.33      0.34      0.33       186\n",
      "\n",
      "    accuracy                           0.41      1600\n",
      "   macro avg       0.28      0.29      0.28      1600\n",
      "weighted avg       0.46      0.41      0.43      1600\n",
      "\n",
      "Saving trained model and labels to svm_emotion_model.pkl...\n",
      "Generating and saving confusion matrix...\n"
     ]
    },
    {
     "ename": "NameError",
     "evalue": "name 'confusion_matrix' is not defined",
     "output_type": "error",
     "traceback": [
      "\u001b[1;31m---------------------------------------------------------------------------\u001b[0m",
      "\u001b[1;31mNameError\u001b[0m                                 Traceback (most recent call last)",
      "Cell \u001b[1;32mIn[14], line 96\u001b[0m\n\u001b[0;32m     93\u001b[0m     \u001b[38;5;28mprint\u001b[39m(\u001b[38;5;124m\"\u001b[39m\u001b[38;5;124m--- Training Complete ---\u001b[39m\u001b[38;5;124m\"\u001b[39m)\n\u001b[0;32m     95\u001b[0m \u001b[38;5;28;01mif\u001b[39;00m \u001b[38;5;18m__name__\u001b[39m \u001b[38;5;241m==\u001b[39m \u001b[38;5;124m'\u001b[39m\u001b[38;5;124m__main__\u001b[39m\u001b[38;5;124m'\u001b[39m:\n\u001b[1;32m---> 96\u001b[0m     main()\n",
      "Cell \u001b[1;32mIn[14], line 85\u001b[0m, in \u001b[0;36mmain\u001b[1;34m()\u001b[0m\n\u001b[0;32m     83\u001b[0m joblib\u001b[38;5;241m.\u001b[39mdump(model_data, MODEL_PATH)\n\u001b[0;32m     84\u001b[0m \u001b[38;5;28mprint\u001b[39m(\u001b[38;5;124m\"\u001b[39m\u001b[38;5;124mGenerating and saving confusion matrix...\u001b[39m\u001b[38;5;124m\"\u001b[39m)\n\u001b[1;32m---> 85\u001b[0m cm \u001b[38;5;241m=\u001b[39m confusion_matrix(y_test, y_pred)\n\u001b[0;32m     86\u001b[0m plt\u001b[38;5;241m.\u001b[39mfigure(figsize\u001b[38;5;241m=\u001b[39m(\u001b[38;5;241m10\u001b[39m, \u001b[38;5;241m8\u001b[39m))\n\u001b[0;32m     87\u001b[0m sns\u001b[38;5;241m.\u001b[39mheatmap(cm, annot\u001b[38;5;241m=\u001b[39m\u001b[38;5;28;01mTrue\u001b[39;00m, fmt\u001b[38;5;241m=\u001b[39m\u001b[38;5;124m'\u001b[39m\u001b[38;5;124md\u001b[39m\u001b[38;5;124m'\u001b[39m, cmap\u001b[38;5;241m=\u001b[39m\u001b[38;5;124m'\u001b[39m\u001b[38;5;124mBlues\u001b[39m\u001b[38;5;124m'\u001b[39m, xticklabels\u001b[38;5;241m=\u001b[39mEMOTION_LABELS, yticklabels\u001b[38;5;241m=\u001b[39mEMOTION_LABELS)\n",
      "\u001b[1;31mNameError\u001b[0m: name 'confusion_matrix' is not defined"
     ]
    }
   ],
   "source": [
    "# --- Functions --- (get_gemini_embedding remains the same)\n",
    "def get_gemini_embedding(text):\n",
    "    \"\"\"Generates an embedding for the given text using the Gemini API.\"\"\"\n",
    "    if not text or not isinstance(text, str):\n",
    "        return [0] * 768\n",
    "    try:\n",
    "        result = genai.embed_content(model=EMBEDDING_MODEL, content=text)\n",
    "        return result['embedding']\n",
    "    except Exception as e:\n",
    "        print(f\"Error getting embedding for text: '{text}'. Error: {e}\")\n",
    "        return [0] * 768\n",
    "\n",
    "def main():\n",
    "    print(\"--- Starting Multi-Class Emotion Model Training ---\")\n",
    "\n",
    "    # --- 1. Load Data and Generate Embeddings ---\n",
    "    if os.path.exists(EMBEDDINGS_CACHE_PATH):\n",
    "        print(f\"Loading pre-computed embeddings from {EMBEDDINGS_CACHE_PATH}...\")\n",
    "        df = pd.read_csv(EMBEDDINGS_CACHE_PATH)\n",
    "        df['embedding'] = df['embedding'].apply(lambda x: np.array(eval(x)))\n",
    "    else:\n",
    "        print(f\"Loading dataset from {DATASET_PATH}...\")\n",
    "        df = pd.read_csv(DATASET_PATH)\n",
    "        \n",
    "        # --- <<< UPDATED: Clean and filter for our target emotions >>> ---\n",
    "        df.dropna(subset=['label', 'sentences'], inplace=True)\n",
    "        df['label'] = df['label'].str.strip().str.lower() # Standardize labels\n",
    "        df = df[df['label'].isin(unique_labels)] # Keep only the labels we want\n",
    "        \n",
    "        # Optional: Use a sample for faster training\n",
    "        # df = df.sample(n=1000, random_state=42).reset_index(drop=True) \n",
    "        \n",
    "        print(f\"Generating embeddings for {len(df)} texts... (This may take a while)\")\n",
    "        df['embedding'] = df['sentences'].apply(get_gemini_embedding)\n",
    "        time.sleep(1) \n",
    "        \n",
    "        print(f\"Saving embeddings to {EMBEDDINGS_CACHE_PATH}...\")\n",
    "        df.to_csv(EMBEDDINGS_CACHE_PATH, index=False)\n",
    "\n",
    "    # --- 2. Prepare Data for SVM ---\n",
    "    print(\"Preparing data for SVM training...\")\n",
    "    df['label_id'] = df['label'].map(LABEL_TO_ID) # Map labels to numeric IDs\n",
    "    df.dropna(subset=['label_id'], inplace=True)\n",
    "    df['label_id'] = df['label_id'].astype(int)\n",
    "\n",
    "    X = np.array(df['embedding'].tolist())\n",
    "    y = df['label_id'].values\n",
    "\n",
    "    X_train, X_test, y_train, y_test = train_test_split(X, y, test_size=0.2, random_state=42, stratify=y)\n",
    "    \n",
    "    # --- 3. Hyperparameter Tuning with GridSearchCV ---\n",
    "    print(\"\\nStarting Hyperparameter Tuning with GridSearchCV...\")\n",
    "    param_grid = [\n",
    "        {'kernel': ['linear'], 'C': [0.1, 1, 10]},\n",
    "        {'kernel': ['rbf'], 'C': [1, 10, 100], 'gamma': [0.1, 0.01, 'scale']},\n",
    "    ]\n",
    "    base_svm = SVC(probability=True, class_weight='balanced')\n",
    "    grid_search = GridSearchCV(estimator=base_svm, param_grid=param_grid, cv=3, n_jobs=-1, verbose=2, scoring='accuracy')\n",
    "    \n",
    "    print(\"Fitting the grid search... (This will take a while)\")\n",
    "    grid_search.fit(X_train, y_train)\n",
    "    \n",
    "    print(f\"\\nBest parameters found: {grid_search.best_params_}\")\n",
    "    print(f\"Best cross-validation accuracy: {grid_search.best_score_:.4f}\")\n",
    "    svm_model = grid_search.best_estimator_\n",
    "\n",
    "    # --- 4. Evaluate Model ---\n",
    "    print(\"Evaluating model...\")\n",
    "    y_pred = svm_model.predict(X_test)\n",
    "    accuracy = accuracy_score(y_test, y_pred)\n",
    "    print(f\"Model Accuracy: {accuracy:.4f}\")\n",
    "    print(\"\\nClassification Report:\")\n",
    "    # --- <<< UPDATED: Use our label names in the report >>> ---\n",
    "    print(classification_report(y_test, y_pred, target_names=unique_labels))\n",
    "\n",
    "    # --- 5. Save the Trained Model AND the Label Mapping ---\n",
    "    print(f\"Saving trained model and labels to {MODEL_PATH}...\")\n",
    "    # It's best practice to save the model and its metadata (like labels) together\n",
    "    model_data = {\n",
    "        'model': svm_model,\n",
    "        'id_to_label': ID_TO_LABEL\n",
    "    }\n",
    "    joblib.dump(model_data, MODEL_PATH)\n",
    "    print(\"Generating and saving confusion matrix...\")\n",
    "    cm = confusion_matrix(y_test, y_pred)\n",
    "    plt.figure(figsize=(10, 8))\n",
    "    sns.heatmap(cm, annot=True, fmt='d', cmap='Blues', xticklabels=EMOTION_LABELS, yticklabels=EMOTION_LABELS)\n",
    "    plt.xlabel('Predicted Label')\n",
    "    plt.ylabel('True Label')\n",
    "    plt.title('Confusion Matrix for Tuned SVM')\n",
    "    plt.savefig('confusion_matrix_tuned.png')\n",
    "    \n",
    "    print(\"--- Training Complete ---\")\n",
    "\n",
    "if __name__ == '__main__':\n",
    "    main()"
   ]
  },
  {
   "cell_type": "code",
   "execution_count": 17,
   "id": "d7a6aca5-7350-42b0-ac34-9cba8ffc6039",
   "metadata": {},
   "outputs": [
    {
     "name": "stdout",
     "output_type": "stream",
     "text": [
      "Generating and saving confusion matrix...\n"
     ]
    },
    {
     "ename": "NameError",
     "evalue": "name 'y_test' is not defined",
     "output_type": "error",
     "traceback": [
      "\u001b[1;31m---------------------------------------------------------------------------\u001b[0m",
      "\u001b[1;31mNameError\u001b[0m                                 Traceback (most recent call last)",
      "Cell \u001b[1;32mIn[17], line 4\u001b[0m\n\u001b[0;32m      1\u001b[0m \u001b[38;5;28;01mfrom\u001b[39;00m\u001b[38;5;250m \u001b[39m\u001b[38;5;21;01msklearn\u001b[39;00m\u001b[38;5;21;01m.\u001b[39;00m\u001b[38;5;21;01mmetrics\u001b[39;00m\u001b[38;5;250m \u001b[39m\u001b[38;5;28;01mimport\u001b[39;00m accuracy_score, classification_report, confusion_matrix\n\u001b[0;32m      3\u001b[0m \u001b[38;5;28mprint\u001b[39m(\u001b[38;5;124m\"\u001b[39m\u001b[38;5;124mGenerating and saving confusion matrix...\u001b[39m\u001b[38;5;124m\"\u001b[39m)\n\u001b[1;32m----> 4\u001b[0m cm \u001b[38;5;241m=\u001b[39m confusion_matrix(y_test, y_pred)\n\u001b[0;32m      5\u001b[0m plt\u001b[38;5;241m.\u001b[39mfigure(figsize\u001b[38;5;241m=\u001b[39m(\u001b[38;5;241m10\u001b[39m, \u001b[38;5;241m8\u001b[39m))\n\u001b[0;32m      6\u001b[0m sns\u001b[38;5;241m.\u001b[39mheatmap(cm, annot\u001b[38;5;241m=\u001b[39m\u001b[38;5;28;01mTrue\u001b[39;00m, fmt\u001b[38;5;241m=\u001b[39m\u001b[38;5;124m'\u001b[39m\u001b[38;5;124md\u001b[39m\u001b[38;5;124m'\u001b[39m, cmap\u001b[38;5;241m=\u001b[39m\u001b[38;5;124m'\u001b[39m\u001b[38;5;124mBlues\u001b[39m\u001b[38;5;124m'\u001b[39m, xticklabels\u001b[38;5;241m=\u001b[39munique_labels, yticklabels\u001b[38;5;241m=\u001b[39munique_labels)\n",
      "\u001b[1;31mNameError\u001b[0m: name 'y_test' is not defined"
     ]
    }
   ],
   "source": [
    "from sklearn.metrics import accuracy_score, classification_report, confusion_matrix\n",
    "\n",
    "print(\"Generating and saving confusion matrix...\")\n",
    "cm = confusion_matrix(y_test, y_pred)\n",
    "plt.figure(figsize=(10, 8))\n",
    "sns.heatmap(cm, annot=True, fm='d', cmap='Blues', xticklabels=unique_labels, yticklabels=unique_labels)\n",
    "plt.xlabel('Predicted Label')\n",
    "plt.ylabel('True Label')\n",
    "plt.title('Confusion Matrix for Tuned SVM')\n",
    "plt.savefig('confusion_matrix_tuned.png')\n",
    "    \n",
    "print(\"--- Training Complete ---\")"
   ]
  },
  {
   "cell_type": "code",
   "execution_count": null,
   "id": "b497eafe-a096-4f7b-b803-231464293088",
   "metadata": {},
   "outputs": [],
   "source": []
  }
 ],
 "metadata": {
  "kernelspec": {
   "display_name": "Python 3 (ipykernel)",
   "language": "python",
   "name": "python3"
  },
  "language_info": {
   "codemirror_mode": {
    "name": "ipython",
    "version": 3
   },
   "file_extension": ".py",
   "mimetype": "text/x-python",
   "name": "python",
   "nbconvert_exporter": "python",
   "pygments_lexer": "ipython3",
   "version": "3.11.5"
  }
 },
 "nbformat": 4,
 "nbformat_minor": 5
}
